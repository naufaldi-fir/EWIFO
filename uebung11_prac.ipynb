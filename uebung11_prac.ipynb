{
 "cells": [
  {
   "cell_type": "markdown",
   "metadata": {},
   "source": [
    "# Aufgabe 11.3"
   ]
  },
  {
   "cell_type": "code",
   "execution_count": 1,
   "metadata": {},
   "outputs": [
    {
     "name": "stdout",
     "output_type": "stream",
     "text": [
      "Variablen im Datensatz: \n",
      " ['Tcig' 'logQcig' 'logPcig']\n"
     ]
    }
   ],
   "source": [
    "# -*- coding: utf-8 -*-\n",
    "\"\"\"\n",
    "Created on Tue Sep 21 13:50:37 2021\n",
    "\n",
    "@author: Chantal\n",
    "\"\"\"\n",
    "import os\n",
    "import pandas as pd\n",
    "import statsmodels.api as sm\n",
    "from statsmodels.sandbox.regression.gmm import IV2SLS\n",
    "\n",
    "#Festsetzen des Pfads zum Odner, in dem sich das Scriptfile und der Datensatz befinden\n",
    "#os.chdir(\"C:/Users/Chantal/sciebo/Ewifo/WS2122/Übung_neu/Thema 11\")\n",
    "\n",
    "# Auslesen der Daten\n",
    "data = pd.read_excel(\"cigarettes1.xlsx\",\"Sheet1\")\n",
    "print('Variablen im Datensatz: \\n', data.columns.values)\n",
    "\n",
    "# Abhängige Variablen und Regressoren\n",
    "y=data[['logQcig']]\n",
    "x1=data[['logPcig']]\n",
    "x = pd.DataFrame(sm.add_constant(x1.values, has_constant='add'), \\\n",
    "                    columns = ['constant'] + x1.columns.tolist())\n",
    "\n",
    "# Schätzung ohne Berücksichtigung der Endogenität\n",
    "cigreg = sm.OLS(y,x).fit()"
   ]
  },
  {
   "cell_type": "markdown",
   "metadata": {},
   "source": [
    "# a)\n"
   ]
  },
  {
   "cell_type": "code",
   "execution_count": 2,
   "metadata": {},
   "outputs": [
    {
     "name": "stdout",
     "output_type": "stream",
     "text": [
      "Koeffizienten der 1. Stufe der TSLS-Schätzung \n",
      " Konstante    4.788914\n",
      "Tcig         0.007707\n",
      "dtype: float64\n"
     ]
    }
   ],
   "source": [
    "# Schätzung der ersten Stufe der TSLS-Regression. Annahme: ln(Pcig) ist die endogene Variable\n",
    "# und Tcig das Instrument. In der 1. Stufe der TSLS-Schätzung ist die endogene Variable\n",
    "# ln(Pcig) die abhängige Variable und das Instrument der Regressor.\n",
    "x_IV = data[['Tcig']]\n",
    "y_IV = x1 #logpcig\n",
    "x_IV = pd.DataFrame(sm.add_constant(x_IV.values, has_constant='add'), columns = ['Konstante'] + x_IV.columns.tolist())\n",
    "ivreg1 = sm.OLS(y_IV,x_IV).fit()\n",
    "print('Koeffizienten der 1. Stufe der TSLS-Schätzung \\n', ivreg1.params)"
   ]
  },
  {
   "cell_type": "code",
   "execution_count": 5,
   "metadata": {},
   "outputs": [
    {
     "data": {
      "text/html": [
       "<table class=\"simpletable\">\n",
       "<caption>OLS Regression Results</caption>\n",
       "<tr>\n",
       "  <th>Dep. Variable:</th>         <td>logPcig</td>     <th>  R-squared:         </th> <td>   0.895</td>\n",
       "</tr>\n",
       "<tr>\n",
       "  <th>Model:</th>                   <td>OLS</td>       <th>  Adj. R-squared:    </th> <td>   0.893</td>\n",
       "</tr>\n",
       "<tr>\n",
       "  <th>Method:</th>             <td>Least Squares</td>  <th>  F-statistic:       </th> <td>   391.4</td>\n",
       "</tr>\n",
       "<tr>\n",
       "  <th>Date:</th>             <td>Sat, 19 Mar 2022</td> <th>  Prob (F-statistic):</th> <td>3.94e-24</td>\n",
       "</tr>\n",
       "<tr>\n",
       "  <th>Time:</th>                 <td>20:25:07</td>     <th>  Log-Likelihood:    </th> <td>  85.204</td>\n",
       "</tr>\n",
       "<tr>\n",
       "  <th>No. Observations:</th>      <td>    48</td>      <th>  AIC:               </th> <td>  -166.4</td>\n",
       "</tr>\n",
       "<tr>\n",
       "  <th>Df Residuals:</th>          <td>    46</td>      <th>  BIC:               </th> <td>  -162.7</td>\n",
       "</tr>\n",
       "<tr>\n",
       "  <th>Df Model:</th>              <td>     1</td>      <th>                     </th>     <td> </td>   \n",
       "</tr>\n",
       "<tr>\n",
       "  <th>Covariance Type:</th>      <td>nonrobust</td>    <th>                     </th>     <td> </td>   \n",
       "</tr>\n",
       "</table>\n",
       "<table class=\"simpletable\">\n",
       "<tr>\n",
       "      <td></td>         <th>coef</th>     <th>std err</th>      <th>t</th>      <th>P>|t|</th>  <th>[0.025</th>    <th>0.975]</th>  \n",
       "</tr>\n",
       "<tr>\n",
       "  <th>Konstante</th> <td>    4.7889</td> <td>    0.022</td> <td>  219.944</td> <td> 0.000</td> <td>    4.745</td> <td>    4.833</td>\n",
       "</tr>\n",
       "<tr>\n",
       "  <th>Tcig</th>      <td>    0.0077</td> <td>    0.000</td> <td>   19.783</td> <td> 0.000</td> <td>    0.007</td> <td>    0.008</td>\n",
       "</tr>\n",
       "</table>\n",
       "<table class=\"simpletable\">\n",
       "<tr>\n",
       "  <th>Omnibus:</th>       <td> 5.893</td> <th>  Durbin-Watson:     </th> <td>   1.767</td>\n",
       "</tr>\n",
       "<tr>\n",
       "  <th>Prob(Omnibus):</th> <td> 0.053</td> <th>  Jarque-Bera (JB):  </th> <td>   4.786</td>\n",
       "</tr>\n",
       "<tr>\n",
       "  <th>Skew:</th>          <td> 0.726</td> <th>  Prob(JB):          </th> <td>  0.0913</td>\n",
       "</tr>\n",
       "<tr>\n",
       "  <th>Kurtosis:</th>      <td> 3.533</td> <th>  Cond. No.          </th> <td>    201.</td>\n",
       "</tr>\n",
       "</table><br/><br/>Notes:<br/>[1] Standard Errors assume that the covariance matrix of the errors is correctly specified."
      ],
      "text/plain": [
       "<class 'statsmodels.iolib.summary.Summary'>\n",
       "\"\"\"\n",
       "                            OLS Regression Results                            \n",
       "==============================================================================\n",
       "Dep. Variable:                logPcig   R-squared:                       0.895\n",
       "Model:                            OLS   Adj. R-squared:                  0.893\n",
       "Method:                 Least Squares   F-statistic:                     391.4\n",
       "Date:                Sat, 19 Mar 2022   Prob (F-statistic):           3.94e-24\n",
       "Time:                        20:25:07   Log-Likelihood:                 85.204\n",
       "No. Observations:                  48   AIC:                            -166.4\n",
       "Df Residuals:                      46   BIC:                            -162.7\n",
       "Df Model:                           1                                         \n",
       "Covariance Type:            nonrobust                                         \n",
       "==============================================================================\n",
       "                 coef    std err          t      P>|t|      [0.025      0.975]\n",
       "------------------------------------------------------------------------------\n",
       "Konstante      4.7889      0.022    219.944      0.000       4.745       4.833\n",
       "Tcig           0.0077      0.000     19.783      0.000       0.007       0.008\n",
       "==============================================================================\n",
       "Omnibus:                        5.893   Durbin-Watson:                   1.767\n",
       "Prob(Omnibus):                  0.053   Jarque-Bera (JB):                4.786\n",
       "Skew:                           0.726   Prob(JB):                       0.0913\n",
       "Kurtosis:                       3.533   Cond. No.                         201.\n",
       "==============================================================================\n",
       "\n",
       "Notes:\n",
       "[1] Standard Errors assume that the covariance matrix of the errors is correctly specified.\n",
       "\"\"\""
      ]
     },
     "execution_count": 5,
     "metadata": {},
     "output_type": "execute_result"
    }
   ],
   "source": [
    "ivreg1.summary()"
   ]
  },
  {
   "cell_type": "code",
   "execution_count": 3,
   "metadata": {},
   "outputs": [
    {
     "name": "stdout",
     "output_type": "stream",
     "text": [
      "Koeffizienten der 2. Stufe der TSLS-Schätzung \n",
      " Konstante    10.523135\n",
      "Pcighat      -1.150225\n",
      "dtype: float64\n"
     ]
    }
   ],
   "source": [
    "# Schätzung der zweiten Stufe der TSLS-Regression. In der 2. Stufe der TSLS-Schätzung ist\n",
    "# ln(Qcig) die ahängige Variable und die geschätzte Variable hat(ln(Pcig)) der 1. Stufe\n",
    "# ist der Regressor.\n",
    "data['Pcighat']=ivreg1.predict(x_IV)\n",
    "x_IV2= data[['Pcighat']]\n",
    "x_IV2 = pd.DataFrame(sm.add_constant(x_IV2.values, has_constant='add'), columns = ['Konstante'] + x_IV2.columns.tolist())\n",
    "y_IV2= y #Qcig\n",
    "ivreg2 = sm.OLS(y_IV2, x_IV2).fit()\n",
    "print('Koeffizienten der 2. Stufe der TSLS-Schätzung \\n', ivreg2.params)"
   ]
  },
  {
   "cell_type": "code",
   "execution_count": 4,
   "metadata": {},
   "outputs": [
    {
     "data": {
      "text/html": [
       "<table class=\"simpletable\">\n",
       "<caption>OLS Regression Results</caption>\n",
       "<tr>\n",
       "  <th>Dep. Variable:</th>         <td>logQcig</td>     <th>  R-squared:         </th> <td>   0.326</td>\n",
       "</tr>\n",
       "<tr>\n",
       "  <th>Model:</th>                   <td>OLS</td>       <th>  Adj. R-squared:    </th> <td>   0.312</td>\n",
       "</tr>\n",
       "<tr>\n",
       "  <th>Method:</th>             <td>Least Squares</td>  <th>  F-statistic:       </th> <td>   22.29</td>\n",
       "</tr>\n",
       "<tr>\n",
       "  <th>Date:</th>             <td>Sat, 19 Mar 2022</td> <th>  Prob (F-statistic):</th> <td>2.22e-05</td>\n",
       "</tr>\n",
       "<tr>\n",
       "  <th>Time:</th>                 <td>20:22:28</td>     <th>  Log-Likelihood:    </th> <td>  9.7174</td>\n",
       "</tr>\n",
       "<tr>\n",
       "  <th>No. Observations:</th>      <td>    48</td>      <th>  AIC:               </th> <td>  -15.43</td>\n",
       "</tr>\n",
       "<tr>\n",
       "  <th>Df Residuals:</th>          <td>    46</td>      <th>  BIC:               </th> <td>  -11.69</td>\n",
       "</tr>\n",
       "<tr>\n",
       "  <th>Df Model:</th>              <td>     1</td>      <th>                     </th>     <td> </td>   \n",
       "</tr>\n",
       "<tr>\n",
       "  <th>Covariance Type:</th>      <td>nonrobust</td>    <th>                     </th>     <td> </td>   \n",
       "</tr>\n",
       "</table>\n",
       "<table class=\"simpletable\">\n",
       "<tr>\n",
       "      <td></td>         <th>coef</th>     <th>std err</th>      <th>t</th>      <th>P>|t|</th>  <th>[0.025</th>    <th>0.975]</th>  \n",
       "</tr>\n",
       "<tr>\n",
       "  <th>Konstante</th> <td>   10.5231</td> <td>    1.268</td> <td>    8.301</td> <td> 0.000</td> <td>    7.971</td> <td>   13.075</td>\n",
       "</tr>\n",
       "<tr>\n",
       "  <th>Pcighat</th>   <td>   -1.1502</td> <td>    0.244</td> <td>   -4.722</td> <td> 0.000</td> <td>   -1.641</td> <td>   -0.660</td>\n",
       "</tr>\n",
       "</table>\n",
       "<table class=\"simpletable\">\n",
       "<tr>\n",
       "  <th>Omnibus:</th>       <td>10.662</td> <th>  Durbin-Watson:     </th> <td>   1.809</td>\n",
       "</tr>\n",
       "<tr>\n",
       "  <th>Prob(Omnibus):</th> <td> 0.005</td> <th>  Jarque-Bera (JB):  </th> <td>  13.053</td>\n",
       "</tr>\n",
       "<tr>\n",
       "  <th>Skew:</th>          <td>-0.746</td> <th>  Prob(JB):          </th> <td> 0.00146</td>\n",
       "</tr>\n",
       "<tr>\n",
       "  <th>Kurtosis:</th>      <td> 5.074</td> <th>  Cond. No.          </th> <td>    235.</td>\n",
       "</tr>\n",
       "</table><br/><br/>Notes:<br/>[1] Standard Errors assume that the covariance matrix of the errors is correctly specified."
      ],
      "text/plain": [
       "<class 'statsmodels.iolib.summary.Summary'>\n",
       "\"\"\"\n",
       "                            OLS Regression Results                            \n",
       "==============================================================================\n",
       "Dep. Variable:                logQcig   R-squared:                       0.326\n",
       "Model:                            OLS   Adj. R-squared:                  0.312\n",
       "Method:                 Least Squares   F-statistic:                     22.29\n",
       "Date:                Sat, 19 Mar 2022   Prob (F-statistic):           2.22e-05\n",
       "Time:                        20:22:28   Log-Likelihood:                 9.7174\n",
       "No. Observations:                  48   AIC:                            -15.43\n",
       "Df Residuals:                      46   BIC:                            -11.69\n",
       "Df Model:                           1                                         \n",
       "Covariance Type:            nonrobust                                         \n",
       "==============================================================================\n",
       "                 coef    std err          t      P>|t|      [0.025      0.975]\n",
       "------------------------------------------------------------------------------\n",
       "Konstante     10.5231      1.268      8.301      0.000       7.971      13.075\n",
       "Pcighat       -1.1502      0.244     -4.722      0.000      -1.641      -0.660\n",
       "==============================================================================\n",
       "Omnibus:                       10.662   Durbin-Watson:                   1.809\n",
       "Prob(Omnibus):                  0.005   Jarque-Bera (JB):               13.053\n",
       "Skew:                          -0.746   Prob(JB):                      0.00146\n",
       "Kurtosis:                       5.074   Cond. No.                         235.\n",
       "==============================================================================\n",
       "\n",
       "Notes:\n",
       "[1] Standard Errors assume that the covariance matrix of the errors is correctly specified.\n",
       "\"\"\""
      ]
     },
     "execution_count": 4,
     "metadata": {},
     "output_type": "execute_result"
    }
   ],
   "source": [
    "ivreg2.summary()"
   ]
  },
  {
   "cell_type": "markdown",
   "metadata": {},
   "source": [
    "\n",
    "# c)\n"
   ]
  },
  {
   "cell_type": "code",
   "execution_count": 6,
   "metadata": {},
   "outputs": [
    {
     "name": "stdout",
     "output_type": "stream",
     "text": [
      "Steigungskoeffizient der 2.Stufe der TSLS-Schätzung: \n",
      "  -1.1502\n"
     ]
    }
   ],
   "source": [
    "print('Steigungskoeffizient der 2.Stufe der TSLS-Schätzung: \\n ', round(ivreg2.params['Pcighat'],4))"
   ]
  },
  {
   "cell_type": "markdown",
   "metadata": {},
   "source": [
    "\n",
    "# e)\n"
   ]
  },
  {
   "cell_type": "code",
   "execution_count": 7,
   "metadata": {},
   "outputs": [
    {
     "name": "stdout",
     "output_type": "stream",
     "text": [
      "Koeffizienten der IV-Schätzung mit richtigen Standardfehlern \n",
      " constant    10.523135\n",
      "logPcig     -1.150225\n",
      "dtype: float64\n",
      "Standardfehler der 2. Stufe der TSLS-Schätzung \n",
      " Konstante    1.267760\n",
      "Pcighat      0.243608\n",
      "dtype: float64\n",
      "Standardfehler der IV-Schätzung mit richtigen Standardfehlern \n",
      " constant    1.191873\n",
      "logPcig     0.229026\n",
      "dtype: float64\n"
     ]
    }
   ],
   "source": [
    "resultIV = IV2SLS(y,x,x_IV).fit()\n",
    "print('Koeffizienten der IV-Schätzung mit richtigen Standardfehlern \\n', resultIV.params)\n",
    "\n",
    "print('Standardfehler der 2. Stufe der TSLS-Schätzung \\n', ivreg2.bse)\n",
    "print('Standardfehler der IV-Schätzung mit richtigen Standardfehlern \\n', resultIV.bse)"
   ]
  }
 ],
 "metadata": {
  "interpreter": {
   "hash": "fdd8d6cac46132b5f43049d7b7860f15cf216defc9cd32792b144718f2f36e6b"
  },
  "kernelspec": {
   "display_name": "Python 3.8.12 ('base')",
   "language": "python",
   "name": "python3"
  },
  "language_info": {
   "codemirror_mode": {
    "name": "ipython",
    "version": 3
   },
   "file_extension": ".py",
   "mimetype": "text/x-python",
   "name": "python",
   "nbconvert_exporter": "python",
   "pygments_lexer": "ipython3",
   "version": "3.8.12"
  },
  "orig_nbformat": 4
 },
 "nbformat": 4,
 "nbformat_minor": 2
}
