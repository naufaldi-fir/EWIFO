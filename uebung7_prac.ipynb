{
 "cells": [
  {
   "cell_type": "markdown",
   "metadata": {},
   "source": [
    "# Aufgabe 7.1"
   ]
  },
  {
   "cell_type": "code",
   "execution_count": 8,
   "metadata": {},
   "outputs": [
    {
     "name": "stdout",
     "output_type": "stream",
     "text": [
      "<class 'pandas.core.frame.DataFrame'>\n",
      "RangeIndex: 526 entries, 0 to 525\n",
      "Data columns (total 21 columns):\n",
      " #   Column    Non-Null Count  Dtype  \n",
      "---  ------    --------------  -----  \n",
      " 0   wage      526 non-null    float64\n",
      " 1   educ      526 non-null    int64  \n",
      " 2   exper     526 non-null    int64  \n",
      " 3   tenure    526 non-null    int64  \n",
      " 4   nonwhite  526 non-null    int64  \n",
      " 5   female    526 non-null    int64  \n",
      " 6   married   526 non-null    int64  \n",
      " 7   numdep    526 non-null    int64  \n",
      " 8   smsa      526 non-null    int64  \n",
      " 9   northcen  526 non-null    int64  \n",
      " 10  south     526 non-null    int64  \n",
      " 11  west      526 non-null    int64  \n",
      " 12  construc  526 non-null    int64  \n",
      " 13  ndurman   526 non-null    int64  \n",
      " 14  trcommpu  526 non-null    int64  \n",
      " 15  trade     526 non-null    int64  \n",
      " 16  services  526 non-null    int64  \n",
      " 17  profserv  526 non-null    int64  \n",
      " 18  profocc   526 non-null    int64  \n",
      " 19  clerocc   526 non-null    int64  \n",
      " 20  servocc   526 non-null    int64  \n",
      "dtypes: float64(1), int64(20)\n",
      "memory usage: 86.4 KB\n",
      "None\n",
      "      wage  educ  exper  tenure  nonwhite  female  married  numdep  smsa  \\\n",
      "0     3.10    11      2       0         0       1        0       2     1   \n",
      "1     3.24    12     22       2         0       1        1       3     1   \n",
      "2     3.00    11      2       0         0       0        0       2     0   \n",
      "3     6.00     8     44      28         0       0        1       0     1   \n",
      "4     5.30    12      7       2         0       0        1       1     0   \n",
      "..     ...   ...    ...     ...       ...     ...      ...     ...   ...   \n",
      "521  15.00    16     14       2         0       1        1       2     0   \n",
      "522   2.27    10      2       0         0       1        0       3     0   \n",
      "523   4.67    15     13      18         0       0        1       3     0   \n",
      "524  11.56    16      5       1         0       0        1       0     0   \n",
      "525   3.50    14      5       4         1       1        0       2     0   \n",
      "\n",
      "     northcen  ...  west  construc  ndurman  trcommpu  trade  services  \\\n",
      "0           0  ...     1         0        0         0      0         0   \n",
      "1           0  ...     1         0        0         0      0         1   \n",
      "2           0  ...     1         0        0         0      1         0   \n",
      "3           0  ...     1         0        0         0      0         0   \n",
      "4           0  ...     1         0        0         0      0         0   \n",
      "..        ...  ...   ...       ...      ...       ...    ...       ...   \n",
      "521         0  ...     1         0        0         0      0         0   \n",
      "522         0  ...     1         0        0         0      1         0   \n",
      "523         0  ...     1         1        0         0      0         0   \n",
      "524         0  ...     1         0        1         0      0         0   \n",
      "525         0  ...     1         0        0         0      0         0   \n",
      "\n",
      "     profserv  profocc  clerocc  servocc  \n",
      "0           0        0        0        0  \n",
      "1           0        0        0        1  \n",
      "2           0        0        0        0  \n",
      "3           0        0        1        0  \n",
      "4           0        0        0        0  \n",
      "..        ...      ...      ...      ...  \n",
      "521         1        1        0        0  \n",
      "522         0        1        0        0  \n",
      "523         0        1        0        0  \n",
      "524         0        0        0        0  \n",
      "525         1        0        1        0  \n",
      "\n",
      "[526 rows x 21 columns]\n"
     ]
    }
   ],
   "source": [
    "# -*- coding: utf-8 -*-\n",
    "\"\"\"\n",
    "Created on Tue Sep 14 14:22:37 2021\n",
    "\n",
    "@author: Marvin Nöller\n",
    "\"\"\"\n",
    "\n",
    "# Importieren der benötigten Pakete\n",
    "import os\n",
    "import pandas as pd\n",
    "import statsmodels.api as sm\n",
    "import numpy as np\n",
    "import matplotlib.pyplot as plt\n",
    "\n",
    "# Einlesen der Daten\n",
    "data = pd.read_excel(\"wage.xlsx\",\"Sheet1\")\n",
    "#print(data)\n",
    "print(data.info())\n",
    "print(data)"
   ]
  },
  {
   "cell_type": "markdown",
   "metadata": {},
   "source": [
    "## a) Log und quadrat columns erstellen\n",
    "modifikation mit np.log() und np.square()"
   ]
  },
  {
   "cell_type": "code",
   "execution_count": 3,
   "metadata": {},
   "outputs": [
    {
     "name": "stdout",
     "output_type": "stream",
     "text": [
      "                            OLS Regression Results                            \n",
      "==============================================================================\n",
      "Dep. Variable:                  lwage   R-squared:                       0.300\n",
      "Model:                            OLS   Adj. R-squared:                  0.296\n",
      "Method:                 Least Squares   F-statistic:                     74.67\n",
      "Date:                Fri, 11 Mar 2022   Prob (F-statistic):           3.38e-40\n",
      "Time:                        14:18:32   Log-Likelihood:                -319.53\n",
      "No. Observations:                 526   AIC:                             647.1\n",
      "Df Residuals:                     522   BIC:                             664.1\n",
      "Df Model:                           3                                         \n",
      "Covariance Type:            nonrobust                                         \n",
      "==============================================================================\n",
      "                 coef    std err          t      P>|t|      [0.025      0.975]\n",
      "------------------------------------------------------------------------------\n",
      "constant       0.1280      0.106      1.208      0.227      -0.080       0.336\n",
      "educ           0.0904      0.007     12.100      0.000       0.076       0.105\n",
      "exper          0.0410      0.005      7.892      0.000       0.031       0.051\n",
      "expersq       -0.0007      0.000     -6.164      0.000      -0.001      -0.000\n",
      "==============================================================================\n",
      "Omnibus:                        5.379   Durbin-Watson:                   1.785\n",
      "Prob(Omnibus):                  0.068   Jarque-Bera (JB):                7.152\n",
      "Skew:                           0.028   Prob(JB):                       0.0280\n",
      "Kurtosis:                       3.568   Cond. No.                     4.24e+03\n",
      "==============================================================================\n",
      "\n",
      "Notes:\n",
      "[1] Standard Errors assume that the covariance matrix of the errors is correctly specified.\n",
      "[2] The condition number is large, 4.24e+03. This might indicate that there are\n",
      "strong multicollinearity or other numerical problems.\n"
     ]
    }
   ],
   "source": [
    "# Erstellen der Variablen log(wage) und exper^2. Hierzu benötigen wir das\n",
    "# package numpy, welches wir oben als np geladen haben\n",
    "data['lwage'] = np.log(data['wage']) #membuat log pada column\n",
    "data['expersq'] = np.square(data['exper']) #membaut quadrat pada column\n",
    "\n",
    "# Abhängige Variable\n",
    "y = data[['lwage']]\n",
    "# Erklärende Variablen inkl. Konstante\n",
    "x = data[['educ', 'exper', 'expersq']]\n",
    "x = pd.DataFrame(sm.add_constant(x.values, has_constant='add'), \\\n",
    "                    columns = ['constant'] + x.columns.tolist())\n",
    "\n",
    "# Schätzung des Modells\n",
    "mincer = sm.OLS(y,x).fit()\n",
    "print(mincer.summary())"
   ]
  },
  {
   "cell_type": "markdown",
   "metadata": {},
   "source": [
    "## b) Bestimmtheitsmaß\n"
   ]
  },
  {
   "cell_type": "code",
   "execution_count": 9,
   "metadata": {},
   "outputs": [
    {
     "name": "stdout",
     "output_type": "stream",
     "text": [
      "R2:  0.3002726742160787\n"
     ]
    }
   ],
   "source": [
    "# Das R2 wird im Schätzoutput gespeichert\n",
    "print('R2: ', mincer.rsquared)"
   ]
  },
  {
   "cell_type": "markdown",
   "metadata": {},
   "source": [
    "\n",
    "## c) Signifikanzsniveau von 1% test\n"
   ]
  },
  {
   "cell_type": "code",
   "execution_count": 11,
   "metadata": {},
   "outputs": [
    {
     "name": "stdout",
     "output_type": "stream",
     "text": [
      "1.4211755999805214e-09\n",
      "beta_3 ist signifikant verschieden von Null\n"
     ]
    }
   ],
   "source": [
    "# p-Wert aus Schätzoutput nehmen\n",
    "p_value_expersq = mincer.pvalues['expersq']\n",
    "# Signifikanzlevel festlegen\n",
    "sig_level_c = 0.01\n",
    "print(p_value_expersq)\n",
    "# Test Entscheidung\n",
    "if p_value_expersq < sig_level_c:\n",
    "    print('beta_3 ist signifikant verschieden von Null')\n",
    "elif p_value_expersq >= sig_level_c:\n",
    "    print('beta_3 ist nicht signifikant verschieden von Null')"
   ]
  },
  {
   "cell_type": "markdown",
   "metadata": {},
   "source": [
    "\n",
    "## d)\n"
   ]
  },
  {
   "cell_type": "code",
   "execution_count": 12,
   "metadata": {},
   "outputs": [
    {
     "name": "stdout",
     "output_type": "stream",
     "text": [
      "Marginaler Effekt für experience von  4 :  0.03530040978032391\n",
      "Marginaler Effekt für experience von  19 :  0.01389366522263924\n"
     ]
    }
   ],
   "source": [
    "# Die beiden Level an experience festlegen\n",
    "exper_level_1 = 4\n",
    "exper_level_2 = 19\n",
    "\n",
    "# Marginalen Effekt mit Hilfe der Schätzergebnisse ausrechnen\n",
    "# manuell ausrechnen\n",
    "marg_effect_1 = mincer.params['exper'] \\\n",
    "                + 2 * mincer.params['expersq'] * exper_level_1\n",
    "\n",
    "marg_effect_2 = mincer.params['exper'] \\\n",
    "                + 2 * mincer.params['expersq'] * exper_level_2\n",
    "\n",
    "print('Marginaler Effekt für experience von ',exper_level_1 ,': ', marg_effect_1)\n",
    "print('Marginaler Effekt für experience von ',exper_level_2 ,': ', marg_effect_2)"
   ]
  },
  {
   "cell_type": "markdown",
   "metadata": {},
   "source": [
    "\n",
    "## e)\n"
   ]
  },
  {
   "cell_type": "code",
   "execution_count": 14,
   "metadata": {},
   "outputs": [
    {
     "data": {
      "text/plain": [
       "Text(0, 0.5, 'log-Lohn')"
      ]
     },
     "execution_count": 14,
     "metadata": {},
     "output_type": "execute_result"
    },
    {
     "data": {
      "image/png": "[encoded data removed]",
      "text/plain": [
       "<Figure size 432x288 with 1 Axes>"
      ]
     },
     "metadata": {
      "needs_background": "light"
     },
     "output_type": "display_data"
    }
   ],
   "source": [
    "######### Den restlichen Code müssen Sie nicht können ########################\n",
    "\n",
    "# Grid für mögliche Werte an Erfahrung\n",
    "grid_exper = np.linspace(0,45,100)\n",
    "# Damit einhergehender Lohn laut Schätzung\n",
    "grid_log_wage = mincer.params['exper'] * grid_exper \\\n",
    "              + mincer.params['expersq'] * grid_exper**2\n",
    "\n",
    "# Plot\n",
    "plt.plot(grid_exper, grid_log_wage)\n",
    "plt.xlabel('Arbeitserfahrung')\n",
    "plt.ylabel('log-Lohn')"
   ]
  }
 ],
 "metadata": {
  "interpreter": {
   "hash": "fdd8d6cac46132b5f43049d7b7860f15cf216defc9cd32792b144718f2f36e6b"
  },
  "kernelspec": {
   "display_name": "Python 3.8.12 ('base')",
   "language": "python",
   "name": "python3"
  },
  "language_info": {
   "codemirror_mode": {
    "name": "ipython",
    "version": 3
   },
   "file_extension": ".py",
   "mimetype": "text/x-python",
   "name": "python",
   "nbconvert_exporter": "python",
   "pygments_lexer": "ipython3",
   "version": "3.8.12"
  },
  "orig_nbformat": 4
 },
 "nbformat": 4,
 "nbformat_minor": 2
}
