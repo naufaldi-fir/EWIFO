{
 "cells": [
  {
   "cell_type": "code",
   "execution_count": 15,
   "metadata": {},
   "outputs": [],
   "source": [
    "# -*- coding: utf-8 -*-\n",
    "\"\"\"\n",
    "Created on Mon Sep 13 16:15:24 2021\n",
    "\n",
    "@author: Marvin Nöller\n",
    "\"\"\"\n",
    "\n",
    "# Importieren der benötigten Pakete\n",
    "import os\n",
    "import pandas as pd\n",
    "import statsmodels.api as sm\n",
    "import scipy.stats\n",
    "import matplotlib as plt\n",
    "import seaborn as sns"
   ]
  },
  {
   "cell_type": "code",
   "execution_count": null,
   "metadata": {},
   "outputs": [],
   "source": [
    "##############################################################################\n",
    "############### Aufgabe 5.2 ##################################################\n",
    "##############################################################################\n",
    "\n",
    "# Einlesen der Daten\n",
    "data = pd.read_excel(\"trmgpa.xlsx\",\"Sheet1\")\n"
   ]
  },
  {
   "cell_type": "code",
   "execution_count": 24,
   "metadata": {},
   "outputs": [
    {
     "name": "stdout",
     "output_type": "stream",
     "text": [
      "<class 'pandas.core.frame.DataFrame'>\n",
      "RangeIndex: 732 entries, 0 to 731\n",
      "Data columns (total 23 columns):\n",
      " #   Column    Non-Null Count  Dtype  \n",
      "---  ------    --------------  -----  \n",
      " 0   term      732 non-null    int64  \n",
      " 1   sat       732 non-null    int64  \n",
      " 2   tothrs    732 non-null    int64  \n",
      " 3   cumgpa    732 non-null    float64\n",
      " 4   season    732 non-null    int64  \n",
      " 5   frstsem   732 non-null    int64  \n",
      " 6   crsgpa    732 non-null    float64\n",
      " 7   verbmath  732 non-null    float64\n",
      " 8   trmgpa    732 non-null    float64\n",
      " 9   hssize    732 non-null    int64  \n",
      " 10  hsrank    732 non-null    int64  \n",
      " 11  id        732 non-null    int64  \n",
      " 12  spring    732 non-null    int64  \n",
      " 13  female    732 non-null    int64  \n",
      " 14  black     732 non-null    int64  \n",
      " 15  white     732 non-null    int64  \n",
      " 16  ctrmgpa   366 non-null    float64\n",
      " 17  ctothrs   366 non-null    float64\n",
      " 18  ccrsgpa   366 non-null    float64\n",
      " 19  ccrspop   366 non-null    float64\n",
      " 20  cseason   366 non-null    float64\n",
      " 21  hsperc    732 non-null    float64\n",
      " 22  football  732 non-null    int64  \n",
      "dtypes: float64(10), int64(13)\n",
      "memory usage: 131.7 KB\n",
      "None\n"
     ]
    }
   ],
   "source": [
    "print(data.info())\n"
   ]
  },
  {
   "cell_type": "code",
   "execution_count": 28,
   "metadata": {},
   "outputs": [
    {
     "name": "stderr",
     "output_type": "stream",
     "text": [
      "C:\\Users\\bondr\\anaconda3\\lib\\site-packages\\seaborn\\_decorators.py:36: FutureWarning: Pass the following variables as keyword args: x, y. From version 0.12, the only valid positional argument will be `data`, and passing other arguments without an explicit keyword will result in an error or misinterpretation.\n",
      "  warnings.warn(\n"
     ]
    },
    {
     "data": {
      "text/plain": [
       "<AxesSubplot:xlabel='term', ylabel='sat'>"
      ]
     },
     "execution_count": 28,
     "metadata": {},
     "output_type": "execute_result"
    },
    {
     "data": {
      "image/png": "[encoded data removed]",
      "text/plain": [
       "<Figure size 432x288 with 1 Axes>"
      ]
     },
     "metadata": {
      "needs_background": "light"
     },
     "output_type": "display_data"
    }
   ],
   "source": [
    "#data[\"term\"].max()\n",
    "sns.boxplot(data[\"term\"],data[\"sat\"])"
   ]
  },
  {
   "cell_type": "markdown",
   "metadata": {},
   "source": [
    "## a"
   ]
  },
  {
   "cell_type": "code",
   "execution_count": null,
   "metadata": {},
   "outputs": [],
   "source": [
    "# Erklärende Variable\n",
    "x = data[['cumgpa']]\n",
    "# Konstante hinzufügen\n",
    "x = pd.DataFrame(sm.add_constant(x.values, has_constant='add'), \\\n",
    "                    columns = ['constant'] + x.columns.tolist())\n",
    "\n",
    "# abhängige Variable\n",
    "y = data[['trmgpa']]\n",
    "\n",
    "# Schätzung des Modells\n",
    "model_gpa = sm.OLS(y, x).fit()\n",
    "\n",
    "# Ausgabe des fehlenden Parameters, gerundet auf 4 Nachkommastellen\n",
    "print('Geschätzter Parameter: ', round(model_gpa.params['cumgpa'],4))\n",
    "\n",
    "##############################################################################\n",
    "# b)\n",
    "\n",
    "# Wenn das Modell bereits geschätzt ist, lassen sich Tests in Python sehr\n",
    "# leicht durchführen\n",
    "\n",
    "# Wir testen ob der Koeffizient der Konstante unterschiedlich von 2 ist\n",
    "\n",
    "# Erst führen wir den Test durch\n",
    "t_test1 = model_gpa.t_test('constant = 2')\n",
    "# Dann lassen wir uns den Wert der Teststatistik ausgeben\n",
    "T_act = t_test1.tvalue.item() # .item() um kein array zu bekommen\n",
    "\n",
    "# Als nächstes benötigen wir den kritischen Wert. Hierzu legen wir das\n",
    "# Signifikanzniveau, sowie die Parameter n und k fest\n",
    "sig_level = 0.01\n",
    "n = model_gpa.nobs\n",
    "k = model_gpa.df_model + model_gpa.k_constant\n",
    "# Kritischer Wert\n",
    "T_crit =scipy.stats.t.ppf((1-sig_level/2), n-k)\n",
    "\n",
    "# Wir können uns die realisierte Teststatistik und den kritischen Wert\n",
    "# anzeigen lassen und dann den Test händisch durchführen.\n",
    "print('Realisierte Teststatistik, Aufgabenteil b): ', T_act)\n",
    "print('Kritischer Wert,  Aufgabenteil b): ', T_crit)\n",
    "\n",
    "# Wir können die Testentscheidung aber auch von Python fällen lassen\n",
    "if abs(T_act) > T_crit :\n",
    "    print('H0 von Aufgabenteil b) wird abgelehnt')\n",
    "else:\n",
    "    print('H0 von Aufgabenteil b) wird nicht abgelehnt')\n",
    "\n",
    "# Alternativ können wir uns auch den p-Wert ausgeben lassen\n",
    "p_value1 = t_test1.pvalue\n",
    "\n",
    "# Auch hier können wir uns den p Wert anschauen und selbst mit dem Signifikanz\n",
    "# Niveau vergleichen\n",
    "print('p-Wert: ', p_value1)\n",
    "# Oder wir lassen wieder Python die Entscheidung fällen\n",
    "if p_value1 < sig_level :\n",
    "    print('H0 von Aufgabenteil b) wird abgelehnt')\n",
    "else:\n",
    "    print('H0 von Aufgabenteil b) wird nicht abgelehnt')\n",
    "\n",
    "##############################################################################\n",
    "# c)\n",
    "\n",
    "# Die Durchführung des Tests funktioniert analog zu Aufgabenteil b)\n",
    "# Hier führen wir den Test nur mit Hilfe des p-Wertes durch\n",
    "\n",
    "# Signifikanzniveau festlegen\n",
    "sig_level_c = 0.1\n",
    "\n",
    "# Test durchführen\n",
    "t_test2 = model_gpa.t_test('cumgpa = 0.25')\n",
    "# p-Wert ausgeben lassen\n",
    "p_value2 = t_test2.pvalue\n",
    "print('p-Wert, Aufgabenteil c): ', p_value2)\n",
    "# Testentscheidung fällen\n",
    "if p_value2 < sig_level_c :\n",
    "    print('H0 von Aufgabenteil c) wird abgelehnt')\n",
    "else:\n",
    "    print('H0 Aufgabenteil c) wird nicht abgelehnt')\n"
   ]
  }
 ],
 "metadata": {
  "interpreter": {
   "hash": "fdd8d6cac46132b5f43049d7b7860f15cf216defc9cd32792b144718f2f36e6b"
  },
  "kernelspec": {
   "display_name": "Python 3.8.12 64-bit ('base': conda)",
   "language": "python",
   "name": "python3"
  },
  "language_info": {
   "codemirror_mode": {
    "name": "ipython",
    "version": 3
   },
   "file_extension": ".py",
   "mimetype": "text/x-python",
   "name": "python",
   "nbconvert_exporter": "python",
   "pygments_lexer": "ipython3",
   "version": "3.8.12"
  },
  "orig_nbformat": 4
 },
 "nbformat": 4,
 "nbformat_minor": 2
}
