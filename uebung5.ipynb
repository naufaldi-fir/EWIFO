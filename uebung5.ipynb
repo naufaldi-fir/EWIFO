{
 "cells": [
  {
   "cell_type": "code",
   "execution_count": 18,
   "metadata": {},
   "outputs": [],
   "source": [
    "# -*- coding: utf-8 -*-\n",
    "\"\"\"\n",
    "Created on Mon Sep 13 16:15:24 2021\n",
    "\n",
    "@author: Marvin Nöller\n",
    "\"\"\"\n",
    "\n",
    "# Importieren der benötigten Pakete\n",
    "import os\n",
    "import pandas as pd\n",
    "import statsmodels.api as sm\n",
    "import scipy.stats\n",
    "import matplotlib.pyplot as plt\n",
    "import seaborn as sns"
   ]
  },
  {
   "cell_type": "code",
   "execution_count": 2,
   "metadata": {},
   "outputs": [],
   "source": [
    "##############################################################################\n",
    "############### Aufgabe 5.2 ##################################################\n",
    "##############################################################################\n",
    "\n",
    "# Einlesen der Daten\n",
    "data = pd.read_excel(\"trmgpa.xlsx\",\"Sheet1\")\n"
   ]
  },
  {
   "cell_type": "code",
   "execution_count": 3,
   "metadata": {},
   "outputs": [
    {
     "name": "stdout",
     "output_type": "stream",
     "text": [
      "<class 'pandas.core.frame.DataFrame'>\n",
      "RangeIndex: 732 entries, 0 to 731\n",
      "Data columns (total 23 columns):\n",
      " #   Column    Non-Null Count  Dtype  \n",
      "---  ------    --------------  -----  \n",
      " 0   term      732 non-null    int64  \n",
      " 1   sat       732 non-null    int64  \n",
      " 2   tothrs    732 non-null    int64  \n",
      " 3   cumgpa    732 non-null    float64\n",
      " 4   season    732 non-null    int64  \n",
      " 5   frstsem   732 non-null    int64  \n",
      " 6   crsgpa    732 non-null    float64\n",
      " 7   verbmath  732 non-null    float64\n",
      " 8   trmgpa    732 non-null    float64\n",
      " 9   hssize    732 non-null    int64  \n",
      " 10  hsrank    732 non-null    int64  \n",
      " 11  id        732 non-null    int64  \n",
      " 12  spring    732 non-null    int64  \n",
      " 13  female    732 non-null    int64  \n",
      " 14  black     732 non-null    int64  \n",
      " 15  white     732 non-null    int64  \n",
      " 16  ctrmgpa   366 non-null    float64\n",
      " 17  ctothrs   366 non-null    float64\n",
      " 18  ccrsgpa   366 non-null    float64\n",
      " 19  ccrspop   366 non-null    float64\n",
      " 20  cseason   366 non-null    float64\n",
      " 21  hsperc    732 non-null    float64\n",
      " 22  football  732 non-null    int64  \n",
      "dtypes: float64(10), int64(13)\n",
      "memory usage: 131.7 KB\n",
      "None\n"
     ]
    }
   ],
   "source": [
    "print(data.info())"
   ]
  },
  {
   "cell_type": "code",
   "execution_count": 4,
   "metadata": {},
   "outputs": [
    {
     "name": "stderr",
     "output_type": "stream",
     "text": [
      "C:\\Users\\bondr\\anaconda3\\lib\\site-packages\\seaborn\\_decorators.py:36: FutureWarning: Pass the following variables as keyword args: x, y. From version 0.12, the only valid positional argument will be `data`, and passing other arguments without an explicit keyword will result in an error or misinterpretation.\n",
      "  warnings.warn(\n"
     ]
    },
    {
     "data": {
      "text/plain": [
       "<AxesSubplot:xlabel='term', ylabel='sat'>"
      ]
     },
     "execution_count": 4,
     "metadata": {},
     "output_type": "execute_result"
    },
    {
     "data": {
      "image/png": "[encoded data removed]",
      "text/plain": [
       "<Figure size 432x288 with 1 Axes>"
      ]
     },
     "metadata": {
      "needs_background": "light"
     },
     "output_type": "display_data"
    }
   ],
   "source": [
    "#data[\"term\"].max()\n",
    "sns.boxplot(data[\"term\"],data[\"sat\"])"
   ]
  },
  {
   "cell_type": "markdown",
   "metadata": {},
   "source": [
    "## a"
   ]
  },
  {
   "cell_type": "code",
   "execution_count": 5,
   "metadata": {},
   "outputs": [
    {
     "name": "stdout",
     "output_type": "stream",
     "text": [
      "                            OLS Regression Results                            \n",
      "==============================================================================\n",
      "Dep. Variable:                 trmgpa   R-squared:                       0.106\n",
      "Model:                            OLS   Adj. R-squared:                  0.105\n",
      "Method:                 Least Squares   F-statistic:                     86.49\n",
      "Date:                Wed, 09 Mar 2022   Prob (F-statistic):           1.60e-19\n",
      "Time:                        07:36:40   Log-Likelihood:                -794.62\n",
      "No. Observations:                 732   AIC:                             1593.\n",
      "Df Residuals:                     730   BIC:                             1602.\n",
      "Df Model:                           1                                         \n",
      "Covariance Type:            nonrobust                                         \n",
      "==============================================================================\n",
      "                 coef    std err          t      P>|t|      [0.025      0.975]\n",
      "------------------------------------------------------------------------------\n",
      "const          1.8113      0.062     29.319      0.000       1.690       1.933\n",
      "cumgpa         0.2494      0.027      9.300      0.000       0.197       0.302\n",
      "==============================================================================\n",
      "Omnibus:                       20.807   Durbin-Watson:                   1.462\n",
      "Prob(Omnibus):                  0.000   Jarque-Bera (JB):               23.710\n",
      "Skew:                          -0.349   Prob(JB):                     7.10e-06\n",
      "Kurtosis:                       3.539   Cond. No.                         6.22\n",
      "==============================================================================\n",
      "\n",
      "Notes:\n",
      "[1] Standard Errors assume that the covariance matrix of the errors is correctly specified.\n"
     ]
    },
    {
     "name": "stderr",
     "output_type": "stream",
     "text": [
      "C:\\Users\\bondr\\anaconda3\\lib\\site-packages\\statsmodels\\tsa\\tsatools.py:142: FutureWarning: In a future version of pandas all arguments of concat except for the argument 'objs' will be keyword-only\n",
      "  x = pd.concat(x[::order], 1)\n"
     ]
    }
   ],
   "source": [
    "# Erklärende Variable\n",
    "x = data[['cumgpa']]\n",
    "# Konstante hinzufügen\n",
    "#x = pd.DataFrame(sm.add_constant(x.values, has_constant='add'), \\\n",
    "#                   columns = ['constant'] + x.columns.tolist())\n",
    "\n",
    "X = sm.add_constant(x)\n",
    "\n",
    "# abhängige Variable\n",
    "y = data[['trmgpa']]\n",
    "\n",
    "# Schätzung des Modells\n",
    "model_gpa = sm.OLS(y, X).fit()\n",
    "\n",
    "# Ausgabe des fehlenden Parameters, gerundet auf 4 Nachkommastellen\n",
    "#print('Geschätzter Parameter: ', round(model_gpa.params['cumgpa'],3))\n",
    "print(model_gpa.summary())"
   ]
  },
  {
   "cell_type": "code",
   "execution_count": 6,
   "metadata": {},
   "outputs": [
    {
     "name": "stdout",
     "output_type": "stream",
     "text": [
      "const     1.749492e-125\n",
      "cumgpa     1.600975e-19\n",
      "dtype: float64\n"
     ]
    }
   ],
   "source": [
    "# pvalues dari tabel summary selalu membandingkan dengan hypothesis null, yaitu koefficient null hypothesis\n",
    "# berada pada nilai 0\n",
    "print(model_gpa.pvalues)"
   ]
  },
  {
   "cell_type": "markdown",
   "metadata": {},
   "source": [
    "## b"
   ]
  },
  {
   "cell_type": "code",
   "execution_count": 7,
   "metadata": {},
   "outputs": [
    {
     "name": "stdout",
     "output_type": "stream",
     "text": [
      "Realisierte Teststatistik, Aufgabenteil b):  -3.0538606521404024\n",
      "[[-3.05386065]]\n"
     ]
    }
   ],
   "source": [
    "# Wenn das Modell bereits geschätzt ist, lassen sich Tests in Python sehr\n",
    "# leicht durchführen\n",
    "\n",
    "# Wir testen ob der Koeffizient der Konstante unterschiedlich von 2 ist\n",
    "\n",
    "# Erst führen wir den Test durch, memakai pembanding null hypothesis 2, bukan 0\n",
    "t_test1 = model_gpa.t_test(\"const = 2\")\n",
    "# Dann lassen wir uns den Wert der Teststatistik ausgeben\n",
    "T_act = t_test1.tvalue.item() # .item() um kein array zu bekommen\n",
    "print('Realisierte Teststatistik, Aufgabenteil b): ', T_act)\n",
    "\n",
    "#######\n",
    "T_act_array = t_test1.tvalue\n",
    "print(T_act_array)"
   ]
  },
  {
   "cell_type": "code",
   "execution_count": 8,
   "metadata": {},
   "outputs": [
    {
     "name": "stdout",
     "output_type": "stream",
     "text": [
      "Realisierte Teststatistik, Aufgabenteil b):  -3.0538606521404024\n",
      "Kritischer Wert,  Aufgabenteil b):  2.5825809101687294\n",
      "H0 von Aufgabenteil b) wird abgelehnt\n",
      "p-Wert:  0.0023412903836409556\n",
      "H0 von Aufgabenteil b) wird abgelehnt\n"
     ]
    }
   ],
   "source": [
    "# Als nächstes benötigen wir den kritischen Wert. Hierzu legen wir das\n",
    "# Signifikanzniveau, sowie die Parameter n und k fest\n",
    "sig_level = 0.01 # 1% signifikanz niveau\n",
    "n = model_gpa.nobs #number of observation\n",
    "k = model_gpa.df_model + model_gpa.k_constant\n",
    "# Kritischer Wert\n",
    "T_crit =scipy.stats.t.ppf((1-sig_level/2), n-k)\n",
    "\n",
    "# Wir können uns die realisierte Teststatistik und den kritischen Wert\n",
    "# anzeigen lassen und dann den Test händisch durchführen.\n",
    "print('Realisierte Teststatistik, Aufgabenteil b): ', T_act)\n",
    "print('Kritischer Wert,  Aufgabenteil b): ', T_crit)\n",
    "\n",
    "# Wir können die Testentscheidung aber auch von Python fällen lassen\n",
    "if abs(T_act) > T_crit :\n",
    "    print('H0 von Aufgabenteil b) wird abgelehnt')\n",
    "else:\n",
    "    print('H0 von Aufgabenteil b) wird nicht abgelehnt')\n",
    "\n",
    "# Alternativ können wir uns auch den p-Wert ausgeben lassen\n",
    "p_value1 = t_test1.pvalue\n",
    "\n",
    "# Auch hier können wir uns den p Wert anschauen und selbst mit dem Signifikanz\n",
    "# Niveau vergleichen\n",
    "print('p-Wert: ', p_value1)\n",
    "# Oder wir lassen wieder Python die Entscheidung fällen\n",
    "if p_value1 < sig_level :\n",
    "    print('H0 von Aufgabenteil b) wird abgelehnt')\n",
    "else:\n",
    "    print('H0 von Aufgabenteil b) wird nicht abgelehnt')"
   ]
  },
  {
   "cell_type": "markdown",
   "metadata": {},
   "source": [
    "### Plotting probability density function from t statistik with scipy"
   ]
  },
  {
   "cell_type": "code",
   "execution_count": 39,
   "metadata": {},
   "outputs": [
    {
     "data": {
      "text/plain": [
       "[<matplotlib.lines.Line2D at 0x1f4e293df10>]"
      ]
     },
     "execution_count": 39,
     "metadata": {},
     "output_type": "execute_result"
    },
    {
     "data": {
      "image/png": "[encoded data removed]",
      "text/plain": [
       "<Figure size 432x288 with 1 Axes>"
      ]
     },
     "metadata": {
      "needs_background": "light"
     },
     "output_type": "display_data"
    }
   ],
   "source": [
    "import numpy as np\n",
    "from scipy.stats import t\n",
    "df  =100\n",
    "x = np.linspace(t.ppf(0.01, df),t.ppf(0.99, df), 100)\n",
    "y = np.linspace(-2,2,100)\n",
    "plt.plot(y, t.pdf(y, df),'-r', lw=5, alpha=0.6, label='t pdf') #other function: t.cdf, t.ppf (keduanya saling invers)"
   ]
  },
  {
   "cell_type": "markdown",
   "metadata": {},
   "source": [
    "## c"
   ]
  },
  {
   "cell_type": "code",
   "execution_count": 41,
   "metadata": {},
   "outputs": [
    {
     "name": "stdout",
     "output_type": "stream",
     "text": [
      "p-Wert, Aufgabenteil c):  0.9813629694401174\n",
      "H0 Aufgabenteil c) wird nicht abgelehnt\n"
     ]
    }
   ],
   "source": [
    "# Die Durchführung des Tests funktioniert analog zu Aufgabenteil b)\n",
    "# Hier führen wir den Test nur mit Hilfe des p-Wertes durch\n",
    "\n",
    "# Signifikanzniveau festlegen\n",
    "sig_level_c = 0.1\n",
    "\n",
    "# Test durchführen\n",
    "t_test2 = model_gpa.t_test('cumgpa = 0.25')\n",
    "# p-Wert ausgeben lassen\n",
    "p_value2 = t_test2.pvalue\n",
    "print('p-Wert, Aufgabenteil c): ', p_value2)\n",
    "# Testentscheidung fällen\n",
    "if p_value2 < sig_level_c :\n",
    "    print('H0 von Aufgabenteil c) wird abgelehnt')\n",
    "else:\n",
    "    print('H0 Aufgabenteil c) wird nicht abgelehnt')"
   ]
  },
  {
   "cell_type": "code",
   "execution_count": 47,
   "metadata": {},
   "outputs": [
    {
     "name": "stdout",
     "output_type": "stream",
     "text": [
      "Test statistik:  -0.023368184102739765\n"
     ]
    }
   ],
   "source": [
    "# T statistik und kritischen Wert vergleichen\n",
    "t_test3 = model_gpa.t_test(\"cumgpa = 0.25\")\n",
    "t_act3 = t_test3.tvalue.item()\n",
    "print(\"Test statistik: \",t_act3)"
   ]
  },
  {
   "cell_type": "code",
   "execution_count": 43,
   "metadata": {},
   "outputs": [
    {
     "data": {
      "text/plain": [
       "1"
      ]
     },
     "execution_count": 43,
     "metadata": {},
     "output_type": "execute_result"
    }
   ],
   "source": [
    "model_gpa.k_constant"
   ]
  },
  {
   "cell_type": "code",
   "execution_count": 48,
   "metadata": {},
   "outputs": [
    {
     "name": "stdout",
     "output_type": "stream",
     "text": [
      "Kritische Wert:  1.6469436495225047\n"
     ]
    }
   ],
   "source": [
    "sig_level = 0.1\n",
    "t_crit3 = t.ppf(1-sig_level/2,n-k)\n",
    "print(\"Kritische Wert: \",t_crit3)"
   ]
  },
  {
   "cell_type": "markdown",
   "metadata": {},
   "source": [
    "Da Test statistik < kritische wert, also H0 wird nicht abgelehnt."
   ]
  }
 ],
 "metadata": {
  "interpreter": {
   "hash": "fdd8d6cac46132b5f43049d7b7860f15cf216defc9cd32792b144718f2f36e6b"
  },
  "kernelspec": {
   "display_name": "Python 3.8.12 64-bit ('base': conda)",
   "language": "python",
   "name": "python3"
  },
  "language_info": {
   "codemirror_mode": {
    "name": "ipython",
    "version": 3
   },
   "file_extension": ".py",
   "mimetype": "text/x-python",
   "name": "python",
   "nbconvert_exporter": "python",
   "pygments_lexer": "ipython3",
   "version": "3.8.12"
  },
  "orig_nbformat": 4
 },
 "nbformat": 4,
 "nbformat_minor": 2
}
