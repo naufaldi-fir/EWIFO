{
 "cells": [
  {
   "cell_type": "markdown",
   "metadata": {},
   "source": [
    "# Aufgabe 9.1"
   ]
  },
  {
   "cell_type": "code",
   "execution_count": 2,
   "metadata": {},
   "outputs": [],
   "source": [
    "# -*- coding: utf-8 -*-\n",
    "\"\"\"\n",
    "Created on Tue Sep 21 13:50:37 2021\n",
    "\n",
    "@author: Chantal\n",
    "\"\"\"\n",
    "#import os\n",
    "import pandas as pd\n",
    "import statsmodels.api as sm\n",
    "import scipy.stats"
   ]
  },
  {
   "cell_type": "code",
   "execution_count": 3,
   "metadata": {},
   "outputs": [
    {
     "data": {
      "text/plain": [
       "pandas.core.series.Series"
      ]
     },
     "execution_count": 3,
     "metadata": {},
     "output_type": "execute_result"
    }
   ],
   "source": [
    "# Auslesen der Daten\n",
    "data = pd.read_excel(\"weeksworkedv2.xlsx\",\"Sheet1\")\n",
    "\n",
    "# Abhängige Variablen und Regressoren\n",
    "y = data[['weeks']]\n",
    "x = data[['morekids', 'educ']]\n",
    "x = pd.DataFrame(sm.add_constant(x.values, has_constant='add'), \\\n",
    "                    columns = ['Konstante'] + x.columns.tolist())\n",
    "\n",
    "# Schätzung\n",
    "weeksreg = sm.OLS(y,x).fit()\n",
    "\n",
    "# Berechnung der Residuen des geschätzten Modells und Quadrierung der Residuen\n",
    "resid=weeksreg.resid\n",
    "residsq=resid*resid\n",
    "#type(resid)\n",
    "type(residsq)"
   ]
  },
  {
   "cell_type": "code",
   "execution_count": 4,
   "metadata": {},
   "outputs": [],
   "source": [
    "# Quadrierung der unabhängigen Variablen educ von Modell 1 (morekids als Dummy-Variable\n",
    "# wird nicht quadriert)\n",
    "data['educsq'] = data['educ']*data['educ']\n",
    "\n",
    "# Definiere die Interaktion der beiden unabhängigen Variablen von Modell 1\n",
    "data['educ_morekids'] = data['educ']*data['morekids']\n",
    "\n",
    "# Festsetzen der unabhängigen Variablen der White-Hilfsregression. Die Hilfsregression\n",
    "# enthält immer die beiden Regressoren des ursprünglichen Modells, die beiden quadrierten\n",
    "# Regressoren des ursprünglichen Modells und die Interaktion der beiden Regressoren\n",
    "XVarWhite = data[['educ','morekids','educsq','educ_morekids']]\n",
    "XVarWhite = pd.DataFrame(sm.add_constant(XVarWhite.values, has_constant='add'),\\\n",
    "             columns = ['Konstante'] + XVarWhite.columns.tolist())\n",
    "\n",
    "# Festsetzen der abhängigen Variable der Hilfsregression, hier also die quadrierten\n",
    "# Residuen von weeksreg\n",
    "YVarWhite=residsq\n",
    "\n",
    "# Schätzung der White-Hilfsregession\n",
    "weeks_White = sm.OLS(YVarWhite,XVarWhite).fit()"
   ]
  },
  {
   "cell_type": "markdown",
   "metadata": {},
   "source": [
    "## b)\n"
   ]
  },
  {
   "cell_type": "code",
   "execution_count": 5,
   "metadata": {},
   "outputs": [
    {
     "name": "stdout",
     "output_type": "stream",
     "text": [
      "Realisierter Wert zum White-Test 3.4980967004657\n"
     ]
    }
   ],
   "source": [
    "# Berechnung des realisierten Wertes des White-Testes anhand der Anzahl der Beobachtungen\n",
    "# der Hilfsregression und des Bestimmtheitsmaßes der Hilfsregression\n",
    "R2_White=weeks_White.rsquared\n",
    "#k_White= weeks_White.df_model+weeks_White.k_constant\n",
    "#n_White=int(weeks_White.df_resid +k_White )\n",
    "White_act=weeks_White.nobs*R2_White\n",
    "#print(\"R2: \",R2_White)\n",
    "#print(\"n_white: \", n_White)\n",
    "print('Realisierter Wert zum White-Test', White_act)"
   ]
  },
  {
   "cell_type": "code",
   "execution_count": 6,
   "metadata": {},
   "outputs": [
    {
     "name": "stdout",
     "output_type": "stream",
     "text": [
      "4.0\n",
      "1\n",
      "273.0\n",
      "268.0\n"
     ]
    }
   ],
   "source": [
    "print(weeks_White.df_model)\n",
    "print(weeks_White.k_constant)\n",
    "print(weeks_White.nobs)\n",
    "print(weeks_White.df_resid)"
   ]
  },
  {
   "cell_type": "markdown",
   "metadata": {},
   "source": [
    "\n",
    "## c)\n"
   ]
  },
  {
   "cell_type": "code",
   "execution_count": 7,
   "metadata": {},
   "outputs": [
    {
     "name": "stdout",
     "output_type": "stream",
     "text": [
      "Kritischer Wert zum White-Test 13.276704135987622\n"
     ]
    }
   ],
   "source": [
    "# Berechnung des kritischen Wertes anhand der Chi-Verteilung zum Signifikanzniveau 1%\n",
    "#und der Anzahl der Freiheitsgrade k_White-1, wobei k_White für die Anzahl der geschätzten\n",
    "#Koeffizienten der Hilfsregression steht.\n",
    "alphaWhite=0.01\n",
    "chi_krit=scipy.stats.chi2.ppf((1-alphaWhite),weeks_White.df_model)\n",
    "print('Kritischer Wert zum White-Test', chi_krit)"
   ]
  },
  {
   "cell_type": "markdown",
   "metadata": {},
   "source": [
    "# Aufgabe 9.3"
   ]
  },
  {
   "cell_type": "code",
   "execution_count": 40,
   "metadata": {},
   "outputs": [
    {
     "name": "stdout",
     "output_type": "stream",
     "text": [
      "Geschätzte Koeffizienten zu trmgpa \n",
      " const      2.211046\n",
      "female     0.569442\n",
      "frstsem   -0.157168\n",
      "dtype: float64\n",
      "Standardfehler zu trmgpa \n",
      " const      0.032019\n",
      "female     0.061642\n",
      "frstsem    0.078291\n",
      "dtype: float64\n",
      "Robuste Standardfehler zu trmgpa \n",
      " const      0.032990\n",
      "female     0.055841\n",
      "frstsem    0.083309\n",
      "dtype: float64\n"
     ]
    }
   ],
   "source": [
    "# Auslesen der Daten\n",
    "data = pd.read_excel(\"trmgpa.xlsx\",\"Sheet1\")\n",
    "\n",
    "# Abhängige Variablen und Regressoren\n",
    "y = data[['trmgpa']]\n",
    "x = data[['female', 'frstsem']]\n",
    "x = pd.DataFrame(sm.add_constant(x.values, has_constant='add'), \\\n",
    "                    columns = ['const'] + x.columns.tolist())\n",
    "\n",
    "# Schätzung\n",
    "trmgpa = sm.OLS(y,x).fit()\n",
    "#print(trmgpa.summary())\n",
    "print('Geschätzte Koeffizienten zu trmgpa \\n', trmgpa.params)\n",
    "print('Standardfehler zu trmgpa \\n', trmgpa.bse)\n",
    "print('Robuste Standardfehler zu trmgpa \\n', trmgpa.HC0_se)\n"
   ]
  },
  {
   "cell_type": "markdown",
   "metadata": {},
   "source": [
    "# Contoh WLS"
   ]
  },
  {
   "cell_type": "code",
   "execution_count": 39,
   "metadata": {},
   "outputs": [
    {
     "name": "stdout",
     "output_type": "stream",
     "text": [
      "(50, 3)\n",
      "[1. 1. 1. 1. 1. 1. 1. 1. 1. 1. 1. 1. 1. 1. 1. 1. 1. 1. 1. 1. 1. 1. 1. 1.\n",
      " 1. 1. 1. 1. 1. 1. 1. 1. 1. 1. 1. 1. 1. 1. 1. 1. 1. 1. 1. 1. 1. 1. 1. 1.\n",
      " 1. 1.]\n",
      "(50,)\n",
      "Matrix:  (50, 3)  dot  3\n",
      "(50,)\n"
     ]
    }
   ],
   "source": [
    "import numpy as np\n",
    "\n",
    "nsample = 50\n",
    "x = np.linspace(0, 20, nsample)\n",
    "X = np.column_stack((x, (x - 5) ** 2))\n",
    "#print(X)\n",
    "X = sm.add_constant(X)\n",
    "print(X.shape)\n",
    "beta = [5.0, 0.5, -0.01]\n",
    "sig = 0.5\n",
    "w = np.ones(nsample)\n",
    "print(w)\n",
    "w[nsample * 6 // 10 :] = 3\n",
    "#w[ :5] = 3\n",
    "print(w.shape)\n",
    "print(\"Matrix: \",X.shape, \" dot \", len(beta))\n",
    "y_true = np.dot(X, beta)\n",
    "print(y_true.shape)\n",
    "e = np.random.normal(size=nsample)\n",
    "y = y_true + sig * w * e\n",
    "X = X[:, [0, 1]]"
   ]
  },
  {
   "cell_type": "code",
   "execution_count": 23,
   "metadata": {},
   "outputs": [
    {
     "data": {
      "text/plain": [
       "array([[ 1.        ,  0.        ],\n",
       "       [ 1.        ,  0.40816327],\n",
       "       [ 1.        ,  0.81632653],\n",
       "       [ 1.        ,  1.2244898 ],\n",
       "       [ 1.        ,  1.63265306],\n",
       "       [ 1.        ,  2.04081633],\n",
       "       [ 1.        ,  2.44897959],\n",
       "       [ 1.        ,  2.85714286],\n",
       "       [ 1.        ,  3.26530612],\n",
       "       [ 1.        ,  3.67346939],\n",
       "       [ 1.        ,  4.08163265],\n",
       "       [ 1.        ,  4.48979592],\n",
       "       [ 1.        ,  4.89795918],\n",
       "       [ 1.        ,  5.30612245],\n",
       "       [ 1.        ,  5.71428571],\n",
       "       [ 1.        ,  6.12244898],\n",
       "       [ 1.        ,  6.53061224],\n",
       "       [ 1.        ,  6.93877551],\n",
       "       [ 1.        ,  7.34693878],\n",
       "       [ 1.        ,  7.75510204],\n",
       "       [ 1.        ,  8.16326531],\n",
       "       [ 1.        ,  8.57142857],\n",
       "       [ 1.        ,  8.97959184],\n",
       "       [ 1.        ,  9.3877551 ],\n",
       "       [ 1.        ,  9.79591837],\n",
       "       [ 1.        , 10.20408163],\n",
       "       [ 1.        , 10.6122449 ],\n",
       "       [ 1.        , 11.02040816],\n",
       "       [ 1.        , 11.42857143],\n",
       "       [ 1.        , 11.83673469],\n",
       "       [ 1.        , 12.24489796],\n",
       "       [ 1.        , 12.65306122],\n",
       "       [ 1.        , 13.06122449],\n",
       "       [ 1.        , 13.46938776],\n",
       "       [ 1.        , 13.87755102],\n",
       "       [ 1.        , 14.28571429],\n",
       "       [ 1.        , 14.69387755],\n",
       "       [ 1.        , 15.10204082],\n",
       "       [ 1.        , 15.51020408],\n",
       "       [ 1.        , 15.91836735],\n",
       "       [ 1.        , 16.32653061],\n",
       "       [ 1.        , 16.73469388],\n",
       "       [ 1.        , 17.14285714],\n",
       "       [ 1.        , 17.55102041],\n",
       "       [ 1.        , 17.95918367],\n",
       "       [ 1.        , 18.36734694],\n",
       "       [ 1.        , 18.7755102 ],\n",
       "       [ 1.        , 19.18367347],\n",
       "       [ 1.        , 19.59183673],\n",
       "       [ 1.        , 20.        ]])"
      ]
     },
     "execution_count": 23,
     "metadata": {},
     "output_type": "execute_result"
    }
   ],
   "source": [
    "#print(X)\n",
    "#print(X)\n",
    "X"
   ]
  }
 ],
 "metadata": {
  "interpreter": {
   "hash": "fdd8d6cac46132b5f43049d7b7860f15cf216defc9cd32792b144718f2f36e6b"
  },
  "kernelspec": {
   "display_name": "Python 3.8.12 ('base')",
   "language": "python",
   "name": "python3"
  },
  "language_info": {
   "codemirror_mode": {
    "name": "ipython",
    "version": 3
   },
   "file_extension": ".py",
   "mimetype": "text/x-python",
   "name": "python",
   "nbconvert_exporter": "python",
   "pygments_lexer": "ipython3",
   "version": "3.8.12"
  },
  "orig_nbformat": 4
 },
 "nbformat": 4,
 "nbformat_minor": 2
}
