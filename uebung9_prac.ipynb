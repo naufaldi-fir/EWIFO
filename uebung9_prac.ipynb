{
 "cells": [
  {
   "cell_type": "markdown",
   "metadata": {},
   "source": [
    "# Aufgabe 9.1"
   ]
  },
  {
   "cell_type": "code",
   "execution_count": 1,
   "metadata": {},
   "outputs": [],
   "source": [
    "# -*- coding: utf-8 -*-\n",
    "\"\"\"\n",
    "Created on Tue Sep 21 13:50:37 2021\n",
    "\n",
    "@author: Chantal\n",
    "\"\"\"\n",
    "import os\n",
    "import pandas as pd\n",
    "import statsmodels.api as sm\n",
    "import scipy.stats"
   ]
  },
  {
   "cell_type": "code",
   "execution_count": 8,
   "metadata": {},
   "outputs": [
    {
     "data": {
      "text/plain": [
       "pandas.core.series.Series"
      ]
     },
     "execution_count": 8,
     "metadata": {},
     "output_type": "execute_result"
    }
   ],
   "source": [
    "# Auslesen der Daten\n",
    "data = pd.read_excel(\"weeksworkedv2.xlsx\",\"Sheet1\")\n",
    "\n",
    "# Abhängige Variablen und Regressoren\n",
    "y = data[['weeks']]\n",
    "x = data[['morekids', 'educ']]\n",
    "x = pd.DataFrame(sm.add_constant(x.values, has_constant='add'), \\\n",
    "                    columns = ['Konstante'] + x.columns.tolist())\n",
    "\n",
    "# Schätzung\n",
    "weeksreg = sm.OLS(y,x).fit()\n",
    "\n",
    "# Berechnung der Residuen des geschätzten Modells und Quadrierung der Residuen\n",
    "resid=weeksreg.resid\n",
    "residsq=resid*resid\n",
    "#type(resid)\n",
    "type(residsq)"
   ]
  },
  {
   "cell_type": "code",
   "execution_count": 9,
   "metadata": {},
   "outputs": [],
   "source": [
    "# Quadrierung der unabhängigen Variablen educ von Modell 1 (morekids als Dummy-Variable\n",
    "# wird nicht quadriert)\n",
    "data['educsq'] = data['educ']*data['educ']\n",
    "\n",
    "# Definiere die Interaktion der beiden unabhängigen Variablen von Modell 1\n",
    "data['educ_morekids'] = data['educ']*data['morekids']\n",
    "\n",
    "# Festsetzen der unabhängigen Variablen der White-Hilfsregression. Die Hilfsregression\n",
    "# enthält immer die beiden Regressoren des ursprünglichen Modells, die beiden quadrierten\n",
    "# Regressoren des ursprünglichen Modells und die Interaktion der beiden Regressoren\n",
    "XVarWhite = data[['educ','morekids','educsq','educ_morekids']]\n",
    "XVarWhite = pd.DataFrame(sm.add_constant(XVarWhite.values, has_constant='add'),\\\n",
    "             columns = ['Konstante'] + XVarWhite.columns.tolist())\n",
    "\n",
    "# Festsetzen der abhängigen Variable der Hilfsregression, hier also die quadrierten\n",
    "# Residuen von weeksreg\n",
    "YVarWhite=residsq\n",
    "\n",
    "# Schätzung der White-Hilfsregession\n",
    "weeks_White = sm.OLS(YVarWhite,XVarWhite).fit()"
   ]
  },
  {
   "cell_type": "markdown",
   "metadata": {},
   "source": [
    "## b)\n"
   ]
  },
  {
   "cell_type": "code",
   "execution_count": 18,
   "metadata": {},
   "outputs": [
    {
     "name": "stdout",
     "output_type": "stream",
     "text": [
      "Realisierter Wert zum White-Test 3.4980967004657\n"
     ]
    }
   ],
   "source": [
    "# Berechnung des realisierten Wertes des White-Testes anhand der Anzahl der Beobachtungen\n",
    "# der Hilfsregression und des Bestimmtheitsmaßes der Hilfsregression\n",
    "R2_White=weeks_White.rsquared\n",
    "#k_White= weeks_White.df_model+weeks_White.k_constant\n",
    "#n_White=int(weeks_White.df_resid +k_White )\n",
    "White_act=weeks_White.nobs*R2_White\n",
    "#print(\"R2: \",R2_White)\n",
    "#print(\"n_white: \", n_White)\n",
    "print('Realisierter Wert zum White-Test', White_act)"
   ]
  },
  {
   "cell_type": "code",
   "execution_count": 17,
   "metadata": {},
   "outputs": [
    {
     "name": "stdout",
     "output_type": "stream",
     "text": [
      "4.0\n",
      "1\n",
      "273.0\n",
      "268.0\n"
     ]
    }
   ],
   "source": [
    "print(weeks_White.df_model)\n",
    "print(weeks_White.k_constant)\n",
    "print(weeks_White.nobs)\n",
    "print(weeks_White.df_resid)"
   ]
  },
  {
   "cell_type": "markdown",
   "metadata": {},
   "source": [
    "\n",
    "## c)\n"
   ]
  },
  {
   "cell_type": "code",
   "execution_count": null,
   "metadata": {},
   "outputs": [],
   "source": [
    "# Berechnung des kritischen Wertes anhand der Chi-Verteilung zum Signifikanzniveau 5%\n",
    "#und der Anzahl der Freiheitsgrade k_White-1, wobei k_White für die Anzahl der geschätzten\n",
    "#Koeffizienten der Hilfsregression steht.\n",
    "alphaWhite=0.01\n",
    "chi_krit=scipy.stats.chi2.ppf((1-alphaWhite),k_White-1)\n",
    "print('Kritischer Wert zum White-Test', chi_krit)"
   ]
  },
  {
   "cell_type": "markdown",
   "metadata": {},
   "source": [
    "# Aufgabe 9.3"
   ]
  },
  {
   "cell_type": "code",
   "execution_count": null,
   "metadata": {},
   "outputs": [],
   "source": [
    "# Auslesen der Daten\n",
    "data = pd.read_excel(\"trmgpa.xlsx\",\"Sheet1\")\n",
    "\n",
    "# Abhängige Variablen und Regressoren\n",
    "y = data[['trmgpa']]\n",
    "x = data[['female', 'frstsem']]\n",
    "x = pd.DataFrame(sm.add_constant(x.values, has_constant='add'), \\\n",
    "                    columns = ['const'] + x.columns.tolist())\n",
    "\n",
    "# Schätzung\n",
    "trmgpa = sm.OLS(y,x).fit()\n",
    "print('Geschätzte Koeffizienten zu trmgpa \\n', trmgpa.params)\n",
    "print('Standardfehler zu trmgpa \\n', trmgpa.bse)\n",
    "print('Robuste Standardfehler zu trmgpa \\n', trmgpa.HC0_se)\n"
   ]
  }
 ],
 "metadata": {
  "interpreter": {
   "hash": "fdd8d6cac46132b5f43049d7b7860f15cf216defc9cd32792b144718f2f36e6b"
  },
  "kernelspec": {
   "display_name": "Python 3.8.12 ('base')",
   "language": "python",
   "name": "python3"
  },
  "language_info": {
   "codemirror_mode": {
    "name": "ipython",
    "version": 3
   },
   "file_extension": ".py",
   "mimetype": "text/x-python",
   "name": "python",
   "nbconvert_exporter": "python",
   "pygments_lexer": "ipython3",
   "version": "3.8.12"
  },
  "orig_nbformat": 4
 },
 "nbformat": 4,
 "nbformat_minor": 2
}
