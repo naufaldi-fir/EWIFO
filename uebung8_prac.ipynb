{
 "cells": [
  {
   "cell_type": "markdown",
   "metadata": {},
   "source": [
    "# Übung 8"
   ]
  },
  {
   "cell_type": "code",
   "execution_count": 2,
   "metadata": {},
   "outputs": [],
   "source": [
    "# -*- coding: utf-8 -*-\n",
    "\"\"\"\n",
    "Created on Tue Sep 21 10:15:45 2021\n",
    "\n",
    "@author: Chantal\n",
    "\"\"\"\n",
    "\n",
    "import os\n",
    "import pandas as pd\n",
    "import statsmodels.api as sm\n",
    "import numpy as np\n",
    "\n",
    "# Pfad zum Ordner. Muss individuell angepasst werden\n",
    "# os.chdir(\"C:/Users/Chantal/sciebo/Ewifo/WS2122/Übung_neu/Thema 8\")\n",
    "\n",
    "# Auslesen der Daten\n",
    "data = pd.read_excel(\"affairs.xlsx\",\"Sheet1\")\n",
    "\n",
    "# Um das Regressionsmodell zu schätzen, muss der Interaktionsterm zwischen male und\n",
    "# yrsmarr definiert werden und die  Matrix x aller Regressoren (inklusive Konstante)\n",
    "# gebildet werden\n",
    "data['male_yrsmarr'] = data['male']*data['yrsmarr']\n",
    "x1 = data[['yrsmarr','kids','male','male_yrsmarr']]\n",
    "x = pd.DataFrame(sm.add_constant(x1.values, has_constant='add'), \\\n",
    "                    columns = ['const'] + x1.columns.tolist())\n",
    "\n",
    "# Abhängige Variable\n",
    "y = data[['affair']]\n",
    "\n",
    "# Regression und Ausgabe des Modells\n",
    "model_affair1 = sm.OLS(y, x).fit()"
   ]
  },
  {
   "cell_type": "markdown",
   "metadata": {},
   "source": [
    "# a)\n"
   ]
  },
  {
   "cell_type": "code",
   "execution_count": 3,
   "metadata": {},
   "outputs": [
    {
     "name": "stdout",
     "output_type": "stream",
     "text": [
      "Geschätzter Effekt von kids auf affair:  0.06922139805107572\n"
     ]
    }
   ],
   "source": [
    "print('Geschätzter Effekt von kids auf affair: ', model_affair1.params['kids'])"
   ]
  },
  {
   "cell_type": "markdown",
   "metadata": {},
   "source": [
    "# b)\n"
   ]
  },
  {
   "cell_type": "code",
   "execution_count": 4,
   "metadata": {},
   "outputs": [
    {
     "name": "stdout",
     "output_type": "stream",
     "text": [
      "Geschätzte Wahrscheinlichkeit einer außerehelichen Affäre:  0.40977105130591707\n"
     ]
    }
   ],
   "source": [
    "# Berechnnung der geschätzten Wahrscheinlichkeit einer außerehelichen Affäre anhand der\n",
    "#Charakteristika der interviewten Person und der geschätzten Koeffizienten.\n",
    "expected_affair = model_affair1.params['const'] \\\n",
    "                 + model_affair1.params['yrsmarr'] * 25 \\\n",
    "                 + model_affair1.params['kids'] * 1 \\\n",
    "                 + model_affair1.params['male'] * 0 \\\n",
    "                 + model_affair1.params['male_yrsmarr'] * 0 *25\n",
    "\n",
    "print('Geschätzte Wahrscheinlichkeit einer außerehelichen Affäre: ', expected_affair)"
   ]
  },
  {
   "cell_type": "markdown",
   "metadata": {},
   "source": [
    "# c)\n"
   ]
  },
  {
   "cell_type": "code",
   "execution_count": 5,
   "metadata": {},
   "outputs": [
    {
     "name": "stdout",
     "output_type": "stream",
     "text": [
      "8.0\n",
      "Geschätzter marginaler Effekt von male auf affair am Durschnitt der Ehedauer: 0.038025946432028154\n"
     ]
    }
   ],
   "source": [
    "# Berechnung des Stichprobenmittels von yrsmarr\n",
    "meanyrs=round(np.mean(data['yrsmarr']),0)\n",
    "print(meanyrs)\n",
    "# Geschätzter Effekt von male auf affairs am Durschnitt von yrsmarr (MEA)\n",
    "\n",
    "expected_effect = model_affair1.params['male'] * 1 \\\n",
    "                 + model_affair1.params['male_yrsmarr'] * 1 *meanyrs\n",
    "\n",
    "print('Geschätzter marginaler Effekt von male auf affair am Durschnitt der Ehedauer:', expected_effect)"
   ]
  }
 ],
 "metadata": {
  "interpreter": {
   "hash": "fdd8d6cac46132b5f43049d7b7860f15cf216defc9cd32792b144718f2f36e6b"
  },
  "kernelspec": {
   "display_name": "Python 3.8.12 ('base')",
   "language": "python",
   "name": "python3"
  },
  "language_info": {
   "codemirror_mode": {
    "name": "ipython",
    "version": 3
   },
   "file_extension": ".py",
   "mimetype": "text/x-python",
   "name": "python",
   "nbconvert_exporter": "python",
   "pygments_lexer": "ipython3",
   "version": "3.8.12"
  },
  "orig_nbformat": 4
 },
 "nbformat": 4,
 "nbformat_minor": 2
}
